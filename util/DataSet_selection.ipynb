{
 "cells": [
  {
   "cell_type": "markdown",
   "metadata": {},
   "source": [
    "#### 다운로드 받은 모발 데이터셋 중 사용할 데이터셋만 추출하는 코드\n",
    "##### 데이터셋이 너무 많은데다 데이터 종류간 개수가 균등하지 않아 각 클래스의 데이터 개수를 균등하게 하기위한 조치\n",
    "\n",
    "##### 작성 날짜 : 2022.01.06, 작성자 : 김민규(MinkyuKim26)"
   ]
  },
  {
   "cell_type": "code",
   "execution_count": 1,
   "metadata": {},
   "outputs": [],
   "source": [
    "import os\n",
    "import shutil\n",
    "import numpy as np\n",
    "from tqdm import tqdm\n",
    "import natsort"
   ]
  },
  {
   "cell_type": "code",
   "execution_count": 2,
   "metadata": {},
   "outputs": [],
   "source": [
    "root_path = '/Users/minkyukim/Desktop/test'\n",
    "folder_list = os.listdir(root_path)\n",
    "new_root_path = '/Users/minkyukim/Downloads/sampled_dataset/Test'\n"
   ]
  },
  {
   "cell_type": "code",
   "execution_count": 3,
   "metadata": {},
   "outputs": [],
   "source": [
    "edited_folder_list = []\n",
    "\n",
    "# '.DS_Store' 제거\n",
    "for i in range(len(folder_list)) :\n",
    "    if folder_list[i] != '.DS_Store' :\n",
    "        edited_folder_list.append(folder_list[i])"
   ]
  },
  {
   "cell_type": "code",
   "execution_count": 4,
   "metadata": {},
   "outputs": [
    {
     "name": "stderr",
     "output_type": "stream",
     "text": [
      "data sampling: 100%|██████████| 48/48 [00:00<00:00, 5691.21it/s]\n"
     ]
    }
   ],
   "source": [
    "# 폴더 생성\n",
    "for folder in tqdm(edited_folder_list, desc = \"data sampling\", mininterval = 0.01) :\n",
    "    new_folder_path = new_root_path + '/' + folder\n",
    "    os.makedirs(new_folder_path)"
   ]
  },
  {
   "cell_type": "code",
   "execution_count": 5,
   "metadata": {},
   "outputs": [
    {
     "name": "stderr",
     "output_type": "stream",
     "text": [
      "data sampling: 100%|██████████| 48/48 [00:07<00:00,  6.46it/s]\n"
     ]
    }
   ],
   "source": [
    "# 샘플한 파일 복사\n",
    "for folder in tqdm(edited_folder_list, desc = \"data sampling\", mininterval = 0.01) :\n",
    "    folder_path = root_path + '/' + folder\n",
    "    file_list = os.listdir(folder_path)\n",
    "    file_list = natsort.natsorted(file_list)\n",
    "\n",
    "\n",
    "    for i in range(0, 95) :\n",
    "        file_path = folder_path + '/' + file_list[i]\n",
    "        copied_path = new_root_path + '/' + folder + '/' + file_list[i]\n",
    "        shutil.copy(file_path, copied_path)"
   ]
  }
 ],
 "metadata": {
  "interpreter": {
   "hash": "aac1938eb6913997aabd086dca6066ca74adbc6b4a9aafd1e6821241d3ac0498"
  },
  "kernelspec": {
   "display_name": "Python 3.8.8 64-bit ('base': conda)",
   "name": "python3"
  },
  "language_info": {
   "codemirror_mode": {
    "name": "ipython",
    "version": 3
   },
   "file_extension": ".py",
   "mimetype": "text/x-python",
   "name": "python",
   "nbconvert_exporter": "python",
   "pygments_lexer": "ipython3",
   "version": "3.8.8"
  },
  "orig_nbformat": 2
 },
 "nbformat": 4,
 "nbformat_minor": 2
}
