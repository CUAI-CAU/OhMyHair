{
 "cells": [
  {
   "cell_type": "code",
   "execution_count": 1,
   "metadata": {},
   "outputs": [],
   "source": [
    "import json\n",
    "import os\n",
    "import numpy as np\n",
    "from tqdm import tqdm\n",
    "\n",
    "import torch\n",
    "from torch.utils.data import Dataset, DataLoader"
   ]
  },
  {
   "cell_type": "code",
   "execution_count": 10,
   "metadata": {},
   "outputs": [],
   "source": [
    "test = np.asarray(\"asdf\")"
   ]
  },
  {
   "cell_type": "code",
   "execution_count": null,
   "metadata": {},
   "outputs": [],
   "source": [
    "# data sampling부터 \n"
   ]
  },
  {
   "cell_type": "code",
   "execution_count": 12,
   "metadata": {},
   "outputs": [
    {
     "name": "stdout",
     "output_type": "stream",
     "text": [
      "asdf\n"
     ]
    }
   ],
   "source": []
  },
  {
   "cell_type": "code",
   "execution_count": null,
   "metadata": {},
   "outputs": [],
   "source": [
    "def get_dataset(image_folder_path, label_folder_path) : \n",
    "    json_list = os.listdir(label_folder_path) # json파일 목록 담기\n",
    "\n",
    "    image_path_list = []\n",
    "    label_list = []\n",
    "\n",
    "    for i in tqdm(range(len(json_list)), desc = \"data sampling\", mininterval=0.01) : \n",
    "        json_file_path = label_folder_path + '/' + json_list[i]\n",
    "        with open(json_file_path, \"r\", encoding=\"utf8\") as f: \n",
    "            contents = f.read() # string 타입 \n",
    "            json_content = json.loads(contents) # 딕셔너리로 저장\n",
    "        \n",
    "        image_file_name = json_content['image_file_name'] # 라벨 데이터에 이미지 파일의 이름이 들어있다\n",
    "        \n",
    "        image_file_path = image_folder_path + '/' + image_file_name\n",
    "\n",
    "        y_true = []\n",
    "        y_true.append(int(json_content['value_1']))\n",
    "        y_true.append(int(json_content['value_2']))\n",
    "        y_true.append(int(json_content['value_3']))\n",
    "        y_true.append(int(json_content['value_4']))\n",
    "        y_true.append(int(json_content['value_5']))\n",
    "        y_true.append(int(json_content['value_6']))\n",
    "\n",
    "        y_true = np.asarray(y_true)\n",
    "\n",
    "        image_path_list.append(image_file_path)\n",
    "        label_list.append(y_true)\n",
    "    \n",
    "    return image_path_list, label_list\n",
    "        "
   ]
  },
  {
   "cell_type": "code",
   "execution_count": 2,
   "metadata": {},
   "outputs": [],
   "source": [
    "\n",
    "\n",
    "with open(\"/Users/minkyukim/Desktop/test/0013_A2LEBJJDE00060O_1606550825417_3_TH.json\", \"r\", encoding=\"utf8\") as f: \n",
    "    contents = f.read() # string 타입 \n",
    "    json_data = json.loads(contents) # 딕셔너리로 저장\n"
   ]
  },
  {
   "cell_type": "code",
   "execution_count": null,
   "metadata": {},
   "outputs": [],
   "source": [
    "class Scalp_Health_Dataset(Dataset) :\n",
    "    def __init__(self, image_path_list, label_list) : # 용량을 고려해 이미지는 경로만 받는걸로\n",
    "        self.image_path_list = image_path_list\n",
    "        self.label_list = label_list\n",
    "    def __len__(self) : \n",
    "        return len(self.image_path_list)\n",
    "\n",
    "    def __getitem__(self, index) :\n",
    "        # 이미지 전처리 후 리턴\n",
    "        return \n",
    "\n"
   ]
  }
 ],
 "metadata": {
  "interpreter": {
   "hash": "aac1938eb6913997aabd086dca6066ca74adbc6b4a9aafd1e6821241d3ac0498"
  },
  "kernelspec": {
   "display_name": "Python 3.8.8 64-bit ('base': conda)",
   "name": "python3"
  },
  "language_info": {
   "codemirror_mode": {
    "name": "ipython",
    "version": 3
   },
   "file_extension": ".py",
   "mimetype": "text/x-python",
   "name": "python",
   "nbconvert_exporter": "python",
   "pygments_lexer": "ipython3",
   "version": "3.8.8"
  },
  "orig_nbformat": 4
 },
 "nbformat": 4,
 "nbformat_minor": 2
}
