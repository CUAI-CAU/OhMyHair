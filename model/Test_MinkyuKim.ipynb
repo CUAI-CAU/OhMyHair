{
 "cells": [
  {
   "cell_type": "markdown",
   "metadata": {},
   "source": [
    "## 학습시킨 모델들을 테스트 "
   ]
  },
  {
   "cell_type": "code",
   "execution_count": null,
   "metadata": {},
   "outputs": [],
   "source": [
    "from PIL import Image\n",
    "import torch"
   ]
  },
  {
   "cell_type": "markdown",
   "metadata": {},
   "source": [
    "### 모델 불러오기"
   ]
  },
  {
   "cell_type": "code",
   "execution_count": null,
   "metadata": {},
   "outputs": [],
   "source": [
    "def get_model_trained(PATH) : # PATH = '/home/ubuntu/CUAI_2021/Advanced_Minkyu_Kim/Scalp_model_parameters/'\n",
    "    model_CNN = models.densenet161(pretrained = True, memory_efficient = True).to(device)\n",
    "\n",
    "    new_classifier = nn.Sequential(\n",
    "                nn.Linear(in_features=2208, out_features=6, bias=True)\n",
    "                ).to(device)\n",
    "\n",
    "    for m in new_classifier.modules():\n",
    "        if isinstance(m, nn.Linear) :\n",
    "            nn.init.kaiming_uniform_(m.weight)\n",
    "\n",
    "    model_CNN.classifier = new_classifier.to(device) # 교체\n",
    "    \n",
    "    model_Diagnoser = scalp_state_diagnoser().to(device)\n",
    "    \n",
    "    # 학습된 가중치들 불러오기\n",
    "    PATH_model_CNN = PATH + 'model_CNN_parameter.pt'\n",
    "    PATH_model_Diagnoser = PATH + 'model_Diagnoser_parameter.pt'\n",
    "    \n",
    "    model_CNN.load_state_dict(torch.load(PATH_model_CNN))\n",
    "    model_Diagnoser.load_state_dict(torch.load(PATH_model_Diagnoser))\n",
    "    \n",
    "    return model_CNN, model_Diagnoser"
   ]
  },
  {
   "cell_type": "markdown",
   "metadata": {},
   "source": [
    "### 모발 이미지로 증상별 중증도를 휙득"
   ]
  },
  {
   "cell_type": "code",
   "execution_count": null,
   "metadata": {},
   "outputs": [],
   "source": [
    "def get_value(img_path, model_CNN, model_Diagnoser, device) :\n",
    "    \n",
    "    state_str_list = [\"미세각질\", \"피지과다\", \"모낭사이홍반\", \"모낭홍반농포\", \"비듬\", \"탈모\", \"양호\"]\n",
    "    \n",
    "    scalp_state_diagnoser = model_Diagnoser[0]\n",
    "    scalp_severity_diagnoser = model_Diagnoser[1]\n",
    "    \n",
    "    # 입력받은 이미지 경로에서 가져온 이미지를 전처리\n",
    "    to_tensor = transforms.ToTensor()\n",
    "    img = to_tensor(Image.open(img_path).convert('RGB'))\n",
    "    img.resize_(3, 224, 224)\n",
    "    img = torch.divide(img, 255.0) # 텐서로 변경 후 이미지 리사이징하고 각 채널을 0~1 사이의 값으로 만들어버림\n",
    "    img = torch.unsqueeze(img, 0).to(device)\n",
    "    \n",
    "    # 전처리\n",
    "    model_CNN.eval()\n",
    "    model_Diagnoser.eval()\n",
    "    \n",
    "    output = model_CNN(img)\n",
    "    output_state_per_class = model_Diagnoser(output)\n",
    "    \n",
    "    # 결과 출력\n",
    "    print_str = \"검사 결과, \"\n",
    "    for i in range(len(state_str_list)) : \n",
    "        print_str += state_str_list[i] + \"이(가) %.4f 만큼, \" % Test_Scalp_classifier_Dataset[809][1][i].item()\n",
    "\n",
    "    print_str = print_str[:-2]\n",
    "    \n",
    "    print_str += \" 있습니다.\"\n",
    "\n",
    "    print(print_str)\n",
    "    \n",
    "    return output_state_per_class\n",
    "    "
   ]
  },
  {
   "cell_type": "markdown",
   "metadata": {},
   "source": [
    "##### 정확도 계산하는 함수. 혹시 몰라서 제작"
   ]
  },
  {
   "cell_type": "code",
   "execution_count": null,
   "metadata": {},
   "outputs": [],
   "source": [
    "def calc_acc(Test_datasets, model_CNN, model_Diagnoser, device) :\n",
    "    \n",
    "    Test_Scalp_Health_Dataset = Test_datasets[0]\n",
    "    Test_Scalp_classifier_Dataset = Test_datasets[1]\n",
    "    \n",
    "    \n",
    "    for i in range(len(Test_Scalp_Health_Dataset)) :\n",
    "        output = model_CNN(Test_Scalp_Health_Dataset[i][0])\n",
    "        output_state = scalp_state_diagnoser(output)\n",
    "        output_severity = scalp_severity_diagnoser(output)\n",
    "        "
   ]
  },
  {
   "cell_type": "markdown",
   "metadata": {},
   "source": [
    "### 모델 테스트 코드 예시"
   ]
  },
  {
   "cell_type": "code",
   "execution_count": null,
   "metadata": {},
   "outputs": [],
   "source": [
    "device = 'cuda' if torch.cuda.is_available() else 'cpu'\n",
    "\n",
    "model_CNN, model_Diagnoser = get_model_trained('/home/ubuntu/CUAI_2021/Advanced_Minkyu_Kim/Scalp_model_parameters/')\n",
    "output_state_per_class = get_value(img_path, model_CNN, model_Diagnoser, device)"
   ]
  }
 ],
 "metadata": {
  "kernelspec": {
   "display_name": "Environment (conda_python3)",
   "language": "python",
   "name": "conda_python3"
  },
  "language_info": {
   "codemirror_mode": {
    "name": "ipython",
    "version": 3
   },
   "file_extension": ".py",
   "mimetype": "text/x-python",
   "name": "python",
   "nbconvert_exporter": "python",
   "pygments_lexer": "ipython3",
   "version": "3.6.5"
  }
 },
 "nbformat": 4,
 "nbformat_minor": 2
}
